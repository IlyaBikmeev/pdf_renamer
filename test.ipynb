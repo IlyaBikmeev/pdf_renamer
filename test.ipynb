{
 "cells": [
  {
   "cell_type": "code",
   "execution_count": 10,
   "metadata": {},
   "outputs": [
    {
     "data": {
      "text/plain": [
       "'fos | 3 AKU. 1094.00UCM.CFP.RK.QC0112\\n\\nCEPTUOUKAT COOTBETETBNA\\n\\nNeTC _ RUC-JP.AT21.B.03098\\n\\nCepua RU Ne 0685884\\n\\na Mocxsa, om 2-an Powwmnckaa, 4.10, a7. 2, nom. VII, Kom. 12. Agpec mecta ooviiestanenin AeATeNbHOCTH: Baccus: 115191.\\nrt. Mockea, yn. a an 1 POWMHcKaa, 4.10. Tenecbou: +7 (495) 640-09-14, anpec SN@KTPOHHON nouTbi: gost-asiarus@gostasia.ru,\\n\\n= Ricoh Company Ltd.\\n_ Cxema ceptucbukauun 1c.\\n\\nOITLOAHUTEAbBHAA MH®OOP\\n\\nWA\\nTlepeyexb CTaHAapTos co. MpunorxeHne, 6naHk Ne 0502878.\\n-Yenoswa: xpanenun: B COOTBETCTBUNU C AOKYMeHTalven usroToBUTena.\\n\\nvawenen 2 OP Se eeERNTT +E OO ——UELIEE! Owe momretisderewserruoncepreunere\\n\\nMUpHoB Cepren AniaseBHApOBHY\\n\\n( ongicatbas “(wHuuManet, qdbamunua) EE Et Pha\\n\\nHEMOHIRES Onbra UBaHosHa\\n\\n“ (wduuuanel, cbamunna)\\n\\n»Oxcnepr (oxcrepr-ayaurop)\\n(oxeneprot (excnepror-ayanropsi))\\n\\n‘Em waroToanex 3AO “ONLOH, Www.c Lopcon eae 05-05-09/003 OH PO) rem 0) T2007) ee\\n\\nee eee Oe eee Ss Ne LEON EEE oI Ss RRR, SEF SENS area? Shs BEA SEEN oe OES, ER, GW SENS ae\\n\\n'"
      ]
     },
     "execution_count": 10,
     "metadata": {},
     "output_type": "execute_result"
    }
   ],
   "source": [
    "import pytesseract\n",
    "from PIL import Image\n",
    "from pdf2image import convert_from_path\n",
    "\n",
    "path = \"3_AKU_1094_00UKT_0_RK_DC0025_Инструкция_по_эксплуатации.pdf\"\n",
    "\n",
    "images = convert_from_path(path, 500, poppler_path='poppler-23.11.0/Library/bin/')\n",
    "\n",
    "pytesseract.pytesseract.tesseract_cmd = r\"D:/Tesseract-OCR/tesseract.exe\"\n",
    "pytesseract.image_to_string(images[0])\n"
   ]
  },
  {
   "cell_type": "code",
   "execution_count": null,
   "metadata": {},
   "outputs": [],
   "source": []
  },
  {
   "cell_type": "code",
   "execution_count": null,
   "metadata": {},
   "outputs": [],
   "source": []
  }
 ],
 "metadata": {
  "kernelspec": {
   "display_name": "venv",
   "language": "python",
   "name": "python3"
  },
  "language_info": {
   "codemirror_mode": {
    "name": "ipython",
    "version": 3
   },
   "file_extension": ".py",
   "mimetype": "text/x-python",
   "name": "python",
   "nbconvert_exporter": "python",
   "pygments_lexer": "ipython3",
   "version": "3.11.6"
  }
 },
 "nbformat": 4,
 "nbformat_minor": 2
}
